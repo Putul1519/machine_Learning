{
 "cells": [
  {
   "cell_type": "code",
   "execution_count": 1,
   "id": "a3b3bb12",
   "metadata": {},
   "outputs": [],
   "source": [
    "import pandas as pd\n",
    "import numpy as np\n",
    "import matplotlib.pyplot as plt\n"
   ]
  },
  {
   "cell_type": "code",
   "execution_count": 3,
   "id": "42e2a92c",
   "metadata": {},
   "outputs": [
    {
     "name": "stdout",
     "output_type": "stream",
     "text": [
      "Index(['PassengerId', 'Survived', 'Pclass', 'Name', 'Sex', 'Age', 'SibSp',\n",
      "       'Parch', 'Ticket', 'Fare', 'Cabin', 'Embarked', 'train_test',\n",
      "       'traint_test'],\n",
      "      dtype='object')\n"
     ]
    }
   ],
   "source": [
    "train_data=pd.read_csv('train.csv')\n",
    "test_data=pd.read_csv('test.csv')\n",
    "train_data['train_test']=1\n",
    "test_data['traint_test']=0\n",
    "all_data=pd.concat([train_data,test_data])\n",
    "print(all_data.columns)\n"
   ]
  },
  {
   "cell_type": "markdown",
   "id": "28cb749b",
   "metadata": {},
   "source": [
    "DATA EXPLORATION"
   ]
  },
  {
   "cell_type": "code",
   "execution_count": 4,
   "id": "80072de4",
   "metadata": {},
   "outputs": [
    {
     "name": "stdout",
     "output_type": "stream",
     "text": [
      "<class 'pandas.core.frame.DataFrame'>\n",
      "RangeIndex: 891 entries, 0 to 890\n",
      "Data columns (total 13 columns):\n",
      " #   Column       Non-Null Count  Dtype  \n",
      "---  ------       --------------  -----  \n",
      " 0   PassengerId  891 non-null    int64  \n",
      " 1   Survived     891 non-null    int64  \n",
      " 2   Pclass       891 non-null    int64  \n",
      " 3   Name         891 non-null    object \n",
      " 4   Sex          891 non-null    object \n",
      " 5   Age          714 non-null    float64\n",
      " 6   SibSp        891 non-null    int64  \n",
      " 7   Parch        891 non-null    int64  \n",
      " 8   Ticket       891 non-null    object \n",
      " 9   Fare         891 non-null    float64\n",
      " 10  Cabin        204 non-null    object \n",
      " 11  Embarked     889 non-null    object \n",
      " 12  train_test   891 non-null    int64  \n",
      "dtypes: float64(2), int64(6), object(5)\n",
      "memory usage: 90.6+ KB\n"
     ]
    }
   ],
   "source": [
    "train_data.describe()"
   ]
  },
  {
   "cell_type": "code",
   "execution_count": 6,
   "id": "bc35e679",
   "metadata": {},
   "outputs": [
    {
     "data": {
      "text/html": [
       "<div>\n",
       "<style scoped>\n",
       "    .dataframe tbody tr th:only-of-type {\n",
       "        vertical-align: middle;\n",
       "    }\n",
       "\n",
       "    .dataframe tbody tr th {\n",
       "        vertical-align: top;\n",
       "    }\n",
       "\n",
       "    .dataframe thead th {\n",
       "        text-align: right;\n",
       "    }\n",
       "</style>\n",
       "<table border=\"1\" class=\"dataframe\">\n",
       "  <thead>\n",
       "    <tr style=\"text-align: right;\">\n",
       "      <th></th>\n",
       "      <th>PassengerId</th>\n",
       "      <th>Survived</th>\n",
       "      <th>Pclass</th>\n",
       "      <th>Name</th>\n",
       "      <th>Sex</th>\n",
       "      <th>Age</th>\n",
       "      <th>SibSp</th>\n",
       "      <th>Parch</th>\n",
       "      <th>Ticket</th>\n",
       "      <th>Fare</th>\n",
       "      <th>Cabin</th>\n",
       "      <th>Embarked</th>\n",
       "      <th>train_test</th>\n",
       "    </tr>\n",
       "  </thead>\n",
       "  <tbody>\n",
       "    <tr>\n",
       "      <th>0</th>\n",
       "      <td>1</td>\n",
       "      <td>0</td>\n",
       "      <td>3</td>\n",
       "      <td>Braund, Mr. Owen Harris</td>\n",
       "      <td>male</td>\n",
       "      <td>22.0</td>\n",
       "      <td>1</td>\n",
       "      <td>0</td>\n",
       "      <td>A/5 21171</td>\n",
       "      <td>7.2500</td>\n",
       "      <td>NaN</td>\n",
       "      <td>S</td>\n",
       "      <td>1</td>\n",
       "    </tr>\n",
       "    <tr>\n",
       "      <th>1</th>\n",
       "      <td>2</td>\n",
       "      <td>1</td>\n",
       "      <td>1</td>\n",
       "      <td>Cumings, Mrs. John Bradley (Florence Briggs Th...</td>\n",
       "      <td>female</td>\n",
       "      <td>38.0</td>\n",
       "      <td>1</td>\n",
       "      <td>0</td>\n",
       "      <td>PC 17599</td>\n",
       "      <td>71.2833</td>\n",
       "      <td>C85</td>\n",
       "      <td>C</td>\n",
       "      <td>1</td>\n",
       "    </tr>\n",
       "    <tr>\n",
       "      <th>2</th>\n",
       "      <td>3</td>\n",
       "      <td>1</td>\n",
       "      <td>3</td>\n",
       "      <td>Heikkinen, Miss. Laina</td>\n",
       "      <td>female</td>\n",
       "      <td>26.0</td>\n",
       "      <td>0</td>\n",
       "      <td>0</td>\n",
       "      <td>STON/O2. 3101282</td>\n",
       "      <td>7.9250</td>\n",
       "      <td>NaN</td>\n",
       "      <td>S</td>\n",
       "      <td>1</td>\n",
       "    </tr>\n",
       "    <tr>\n",
       "      <th>3</th>\n",
       "      <td>4</td>\n",
       "      <td>1</td>\n",
       "      <td>1</td>\n",
       "      <td>Futrelle, Mrs. Jacques Heath (Lily May Peel)</td>\n",
       "      <td>female</td>\n",
       "      <td>35.0</td>\n",
       "      <td>1</td>\n",
       "      <td>0</td>\n",
       "      <td>113803</td>\n",
       "      <td>53.1000</td>\n",
       "      <td>C123</td>\n",
       "      <td>S</td>\n",
       "      <td>1</td>\n",
       "    </tr>\n",
       "    <tr>\n",
       "      <th>4</th>\n",
       "      <td>5</td>\n",
       "      <td>0</td>\n",
       "      <td>3</td>\n",
       "      <td>Allen, Mr. William Henry</td>\n",
       "      <td>male</td>\n",
       "      <td>35.0</td>\n",
       "      <td>0</td>\n",
       "      <td>0</td>\n",
       "      <td>373450</td>\n",
       "      <td>8.0500</td>\n",
       "      <td>NaN</td>\n",
       "      <td>S</td>\n",
       "      <td>1</td>\n",
       "    </tr>\n",
       "  </tbody>\n",
       "</table>\n",
       "</div>"
      ],
      "text/plain": [
       "   PassengerId  Survived  Pclass  \\\n",
       "0            1         0       3   \n",
       "1            2         1       1   \n",
       "2            3         1       3   \n",
       "3            4         1       1   \n",
       "4            5         0       3   \n",
       "\n",
       "                                                Name     Sex   Age  SibSp  \\\n",
       "0                            Braund, Mr. Owen Harris    male  22.0      1   \n",
       "1  Cumings, Mrs. John Bradley (Florence Briggs Th...  female  38.0      1   \n",
       "2                             Heikkinen, Miss. Laina  female  26.0      0   \n",
       "3       Futrelle, Mrs. Jacques Heath (Lily May Peel)  female  35.0      1   \n",
       "4                           Allen, Mr. William Henry    male  35.0      0   \n",
       "\n",
       "   Parch            Ticket     Fare Cabin Embarked  train_test  \n",
       "0      0         A/5 21171   7.2500   NaN        S           1  \n",
       "1      0          PC 17599  71.2833   C85        C           1  \n",
       "2      0  STON/O2. 3101282   7.9250   NaN        S           1  \n",
       "3      0            113803  53.1000  C123        S           1  \n",
       "4      0            373450   8.0500   NaN        S           1  "
      ]
     },
     "execution_count": 6,
     "metadata": {},
     "output_type": "execute_result"
    }
   ],
   "source": [
    "train_data.head()"
   ]
  },
  {
   "cell_type": "code",
   "execution_count": 19,
   "id": "ec985efe",
   "metadata": {},
   "outputs": [
    {
     "data": {
      "text/html": [
       "<style type=\"text/css\">\n",
       "#T_90c45_row0_col0, #T_90c45_row1_col1, #T_90c45_row2_col2, #T_90c45_row3_col3, #T_90c45_row4_col4 {\n",
       "  background-color: #08306b;\n",
       "  color: #f1f1f1;\n",
       "}\n",
       "#T_90c45_row0_col1, #T_90c45_row0_col4, #T_90c45_row1_col2, #T_90c45_row1_col3, #T_90c45_row4_col0 {\n",
       "  background-color: #f7fbff;\n",
       "  color: #000000;\n",
       "}\n",
       "#T_90c45_row0_col2 {\n",
       "  background-color: #b7d4ea;\n",
       "  color: #000000;\n",
       "}\n",
       "#T_90c45_row0_col3 {\n",
       "  background-color: #d5e5f4;\n",
       "  color: #000000;\n",
       "}\n",
       "#T_90c45_row1_col0 {\n",
       "  background-color: #e0ecf8;\n",
       "  color: #000000;\n",
       "}\n",
       "#T_90c45_row1_col4 {\n",
       "  background-color: #8dc1dd;\n",
       "  color: #000000;\n",
       "}\n",
       "#T_90c45_row2_col0 {\n",
       "  background-color: #91c3de;\n",
       "  color: #000000;\n",
       "}\n",
       "#T_90c45_row2_col1 {\n",
       "  background-color: #eef5fc;\n",
       "  color: #000000;\n",
       "}\n",
       "#T_90c45_row2_col3 {\n",
       "  background-color: #68acd5;\n",
       "  color: #f1f1f1;\n",
       "}\n",
       "#T_90c45_row2_col4 {\n",
       "  background-color: #7cb7da;\n",
       "  color: #000000;\n",
       "}\n",
       "#T_90c45_row3_col0 {\n",
       "  background-color: #a1cbe2;\n",
       "  color: #000000;\n",
       "}\n",
       "#T_90c45_row3_col1 {\n",
       "  background-color: #ddeaf7;\n",
       "  color: #000000;\n",
       "}\n",
       "#T_90c45_row3_col2 {\n",
       "  background-color: #5aa2cf;\n",
       "  color: #f1f1f1;\n",
       "}\n",
       "#T_90c45_row3_col4 {\n",
       "  background-color: #6dafd7;\n",
       "  color: #f1f1f1;\n",
       "}\n",
       "#T_90c45_row4_col1 {\n",
       "  background-color: #aacfe5;\n",
       "  color: #000000;\n",
       "}\n",
       "#T_90c45_row4_col2 {\n",
       "  background-color: #a4cce3;\n",
       "  color: #000000;\n",
       "}\n",
       "#T_90c45_row4_col3 {\n",
       "  background-color: #a9cfe5;\n",
       "  color: #000000;\n",
       "}\n",
       "</style>\n",
       "<table id=\"T_90c45\">\n",
       "  <thead>\n",
       "    <tr>\n",
       "      <th class=\"blank level0\" >&nbsp;</th>\n",
       "      <th id=\"T_90c45_level0_col0\" class=\"col_heading level0 col0\" >Pclass</th>\n",
       "      <th id=\"T_90c45_level0_col1\" class=\"col_heading level0 col1\" >Age</th>\n",
       "      <th id=\"T_90c45_level0_col2\" class=\"col_heading level0 col2\" >SibSp</th>\n",
       "      <th id=\"T_90c45_level0_col3\" class=\"col_heading level0 col3\" >Parch</th>\n",
       "      <th id=\"T_90c45_level0_col4\" class=\"col_heading level0 col4\" >Fare</th>\n",
       "    </tr>\n",
       "  </thead>\n",
       "  <tbody>\n",
       "    <tr>\n",
       "      <th id=\"T_90c45_level0_row0\" class=\"row_heading level0 row0\" >Pclass</th>\n",
       "      <td id=\"T_90c45_row0_col0\" class=\"data row0 col0\" >1.000000</td>\n",
       "      <td id=\"T_90c45_row0_col1\" class=\"data row0 col1\" >-0.369226</td>\n",
       "      <td id=\"T_90c45_row0_col2\" class=\"data row0 col2\" >0.083081</td>\n",
       "      <td id=\"T_90c45_row0_col3\" class=\"data row0 col3\" >0.018443</td>\n",
       "      <td id=\"T_90c45_row0_col4\" class=\"data row0 col4\" >-0.549500</td>\n",
       "    </tr>\n",
       "    <tr>\n",
       "      <th id=\"T_90c45_level0_row1\" class=\"row_heading level0 row1\" >Age</th>\n",
       "      <td id=\"T_90c45_row1_col0\" class=\"data row1 col0\" >-0.369226</td>\n",
       "      <td id=\"T_90c45_row1_col1\" class=\"data row1 col1\" >1.000000</td>\n",
       "      <td id=\"T_90c45_row1_col2\" class=\"data row1 col2\" >-0.308247</td>\n",
       "      <td id=\"T_90c45_row1_col3\" class=\"data row1 col3\" >-0.189119</td>\n",
       "      <td id=\"T_90c45_row1_col4\" class=\"data row1 col4\" >0.096067</td>\n",
       "    </tr>\n",
       "    <tr>\n",
       "      <th id=\"T_90c45_level0_row2\" class=\"row_heading level0 row2\" >SibSp</th>\n",
       "      <td id=\"T_90c45_row2_col0\" class=\"data row2 col0\" >0.083081</td>\n",
       "      <td id=\"T_90c45_row2_col1\" class=\"data row2 col1\" >-0.308247</td>\n",
       "      <td id=\"T_90c45_row2_col2\" class=\"data row2 col2\" >1.000000</td>\n",
       "      <td id=\"T_90c45_row2_col3\" class=\"data row2 col3\" >0.414838</td>\n",
       "      <td id=\"T_90c45_row2_col4\" class=\"data row2 col4\" >0.159651</td>\n",
       "    </tr>\n",
       "    <tr>\n",
       "      <th id=\"T_90c45_level0_row3\" class=\"row_heading level0 row3\" >Parch</th>\n",
       "      <td id=\"T_90c45_row3_col0\" class=\"data row3 col0\" >0.018443</td>\n",
       "      <td id=\"T_90c45_row3_col1\" class=\"data row3 col1\" >-0.189119</td>\n",
       "      <td id=\"T_90c45_row3_col2\" class=\"data row3 col2\" >0.414838</td>\n",
       "      <td id=\"T_90c45_row3_col3\" class=\"data row3 col3\" >1.000000</td>\n",
       "      <td id=\"T_90c45_row3_col4\" class=\"data row3 col4\" >0.216225</td>\n",
       "    </tr>\n",
       "    <tr>\n",
       "      <th id=\"T_90c45_level0_row4\" class=\"row_heading level0 row4\" >Fare</th>\n",
       "      <td id=\"T_90c45_row4_col0\" class=\"data row4 col0\" >-0.549500</td>\n",
       "      <td id=\"T_90c45_row4_col1\" class=\"data row4 col1\" >0.096067</td>\n",
       "      <td id=\"T_90c45_row4_col2\" class=\"data row4 col2\" >0.159651</td>\n",
       "      <td id=\"T_90c45_row4_col3\" class=\"data row4 col3\" >0.216225</td>\n",
       "      <td id=\"T_90c45_row4_col4\" class=\"data row4 col4\" >1.000000</td>\n",
       "    </tr>\n",
       "  </tbody>\n",
       "</table>\n"
      ],
      "text/plain": [
       "<pandas.io.formats.style.Styler at 0x1a9e8674130>"
      ]
     },
     "execution_count": 19,
     "metadata": {},
     "output_type": "execute_result"
    }
   ],
   "source": [
    "#separating categorical values\n",
    "train_num=train_data[['Pclass','Age','SibSp','Parch','Fare']]\n",
    "train_cat=train_data[['Survived','Sex','Ticket','Cabin','Embarked']]\n",
    "#looking correlation between nmerical values\n",
    "corr=train_num.corr()\n",
    "corr.style.background_gradient(cmap='Blues')"
   ]
  },
  {
   "cell_type": "code",
   "execution_count": 20,
   "id": "6b995731",
   "metadata": {},
   "outputs": [
    {
     "data": {
      "image/png": "[encoded data removed]",
      "text/plain": [
       "<Figure size 432x288 with 1 Axes>"
      ]
     },
     "metadata": {
      "needs_background": "light"
     },
     "output_type": "display_data"
    },
    {
     "data": {
      "image/png": "[encoded data removed]",
      "text/plain": [
       "<Figure size 432x288 with 1 Axes>"
      ]
     },
     "metadata": {
      "needs_background": "light"
     },
     "output_type": "display_data"
    },
    {
     "data": {
      "image/png": "[encoded data removed]",
      "text/plain": [
       "<Figure size 432x288 with 1 Axes>"
      ]
     },
     "metadata": {
      "needs_background": "light"
     },
     "output_type": "display_data"
    },
    {
     "data": {
      "image/png": "[encoded data removed]",
      "text/plain": [
       "<Figure size 432x288 with 1 Axes>"
      ]
     },
     "metadata": {
      "needs_background": "light"
     },
     "output_type": "display_data"
    },
    {
     "data": {
      "image/png": "[encoded data removed]",
      "text/plain": [
       "<Figure size 432x288 with 1 Axes>"
      ]
     },
     "metadata": {
      "needs_background": "light"
     },
     "output_type": "display_data"
    }
   ],
   "source": [
    "for i in train_num.columns:\n",
    "    plt.hist(train_num[i])\n",
    "    plt.title(i)\n",
    "    plt.show()"
   ]
  },
  {
   "cell_type": "code",
   "execution_count": 22,
   "id": "1808af79",
   "metadata": {},
   "outputs": [
    {
     "name": "stderr",
     "output_type": "stream",
     "text": [
      "C:\\ProgramData\\Anaconda3\\lib\\site-packages\\seaborn\\_decorators.py:36: FutureWarning: Pass the following variables as keyword args: x, y. From version 0.12, the only valid positional argument will be `data`, and passing other arguments without an explicit keyword will result in an error or misinterpretation.\n",
      "  warnings.warn(\n"
     ]
    },
    {
     "data": {
      "image/png": "[encoded data removed]",
      "text/plain": [
       "<Figure size 432x288 with 1 Axes>"
      ]
     },
     "metadata": {
      "needs_background": "light"
     },
     "output_type": "display_data"
    },
    {
     "name": "stderr",
     "output_type": "stream",
     "text": [
      "C:\\ProgramData\\Anaconda3\\lib\\site-packages\\seaborn\\_decorators.py:36: FutureWarning: Pass the following variables as keyword args: x, y. From version 0.12, the only valid positional argument will be `data`, and passing other arguments without an explicit keyword will result in an error or misinterpretation.\n",
      "  warnings.warn(\n"
     ]
    },
    {
     "data": {
      "image/png": "[encoded data removed]",
      "text/plain": [
       "<Figure size 432x288 with 1 Axes>"
      ]
     },
     "metadata": {
      "needs_background": "light"
     },
     "output_type": "display_data"
    },
    {
     "name": "stderr",
     "output_type": "stream",
     "text": [
      "C:\\ProgramData\\Anaconda3\\lib\\site-packages\\seaborn\\_decorators.py:36: FutureWarning: Pass the following variables as keyword args: x, y. From version 0.12, the only valid positional argument will be `data`, and passing other arguments without an explicit keyword will result in an error or misinterpretation.\n",
      "  warnings.warn(\n"
     ]
    },
    {
     "data": {
      "image/png": "[encoded data removed]",
      "text/plain": [
       "<Figure size 432x288 with 1 Axes>"
      ]
     },
     "metadata": {
      "needs_background": "light"
     },
     "output_type": "display_data"
    },
    {
     "name": "stderr",
     "output_type": "stream",
     "text": [
      "C:\\ProgramData\\Anaconda3\\lib\\site-packages\\seaborn\\_decorators.py:36: FutureWarning: Pass the following variables as keyword args: x, y. From version 0.12, the only valid positional argument will be `data`, and passing other arguments without an explicit keyword will result in an error or misinterpretation.\n",
      "  warnings.warn(\n"
     ]
    },
    {
     "data": {
      "image/png": "[encoded data removed]",
      "text/plain": [
       "<Figure size 432x288 with 1 Axes>"
      ]
     },
     "metadata": {
      "needs_background": "light"
     },
     "output_type": "display_data"
    },
    {
     "name": "stderr",
     "output_type": "stream",
     "text": [
      "C:\\ProgramData\\Anaconda3\\lib\\site-packages\\seaborn\\_decorators.py:36: FutureWarning: Pass the following variables as keyword args: x, y. From version 0.12, the only valid positional argument will be `data`, and passing other arguments without an explicit keyword will result in an error or misinterpretation.\n",
      "  warnings.warn(\n"
     ]
    },
    {
     "data": {
      "image/png": "[encoded data removed]",
      "text/plain": [
       "<Figure size 432x288 with 1 Axes>"
      ]
     },
     "metadata": {
      "needs_background": "light"
     },
     "output_type": "display_data"
    }
   ],
   "source": [
    "#Histogram to see the distribution of the categorical data\n",
    "import seaborn as sns\n",
    "for i in train_cat.columns:\n",
    "    sns.barplot(train_cat[i].value_counts().index,train_cat[i].value_counts()).set_title(i)\n",
    "    plt.show()\n",
    "    "
   ]
  },
  {
   "cell_type": "markdown",
   "id": "4e1874fc",
   "metadata": {},
   "source": [
    "DATA PRE-PROCESSING\n"
   ]
  },
  {
   "cell_type": "code",
   "execution_count": 25,
   "id": "15c53c54",
   "metadata": {},
   "outputs": [
    {
     "name": "stderr",
     "output_type": "stream",
     "text": [
      "C:\\Users\\91977\\AppData\\Local\\Temp\\ipykernel_20984\\3710913012.py:2: SettingWithCopyWarning: \n",
      "A value is trying to be set on a copy of a slice from a DataFrame\n",
      "\n",
      "See the caveats in the documentation: https://pandas.pydata.org/pandas-docs/stable/user_guide/indexing.html#returning-a-view-versus-a-copy\n",
      "  train_data.Age[np.isnan(train_data.Age)]=np.nanmean(train_data.Age,axis=0)\n"
     ]
    },
    {
     "data": {
      "text/plain": [
       "<AxesSubplot:>"
      ]
     },
     "execution_count": 25,
     "metadata": {},
     "output_type": "execute_result"
    },
    {
     "data": {
      "image/png": "[encoded data removed]",
      "text/plain": [
       "<Figure size 432x288 with 1 Axes>"
      ]
     },
     "metadata": {
      "needs_background": "light"
     },
     "output_type": "display_data"
    }
   ],
   "source": [
    "#input data with mean age\n",
    "train_data.Age[np.isnan(train_data.Age)]=np.nanmean(train_data.Age,axis=0)\n",
    "train_data['Norm_fare']=np.log(train_data['Fare']+1)\n",
    "train_data['Norm_fare'].hist()"
   ]
  },
  {
   "cell_type": "code",
   "execution_count": 28,
   "id": "a8598b7f",
   "metadata": {},
   "outputs": [
    {
     "data": {
      "text/html": [
       "<div>\n",
       "<style scoped>\n",
       "    .dataframe tbody tr th:only-of-type {\n",
       "        vertical-align: middle;\n",
       "    }\n",
       "\n",
       "    .dataframe tbody tr th {\n",
       "        vertical-align: top;\n",
       "    }\n",
       "\n",
       "    .dataframe thead th {\n",
       "        text-align: right;\n",
       "    }\n",
       "</style>\n",
       "<table border=\"1\" class=\"dataframe\">\n",
       "  <thead>\n",
       "    <tr style=\"text-align: right;\">\n",
       "      <th></th>\n",
       "      <th>Pclass</th>\n",
       "      <th>Age</th>\n",
       "      <th>SibSp</th>\n",
       "      <th>Parch</th>\n",
       "      <th>Norm_fare</th>\n",
       "      <th>Sex_female</th>\n",
       "      <th>Sex_male</th>\n",
       "      <th>Embarked_C</th>\n",
       "      <th>Embarked_Q</th>\n",
       "      <th>Embarked_S</th>\n",
       "    </tr>\n",
       "  </thead>\n",
       "  <tbody>\n",
       "    <tr>\n",
       "      <th>0</th>\n",
       "      <td>3</td>\n",
       "      <td>-0.592481</td>\n",
       "      <td>0.432793</td>\n",
       "      <td>-0.473674</td>\n",
       "      <td>-0.879741</td>\n",
       "      <td>0</td>\n",
       "      <td>1</td>\n",
       "      <td>0</td>\n",
       "      <td>0</td>\n",
       "      <td>1</td>\n",
       "    </tr>\n",
       "    <tr>\n",
       "      <th>1</th>\n",
       "      <td>1</td>\n",
       "      <td>0.638789</td>\n",
       "      <td>0.432793</td>\n",
       "      <td>-0.473674</td>\n",
       "      <td>1.361220</td>\n",
       "      <td>1</td>\n",
       "      <td>0</td>\n",
       "      <td>1</td>\n",
       "      <td>0</td>\n",
       "      <td>0</td>\n",
       "    </tr>\n",
       "    <tr>\n",
       "      <th>2</th>\n",
       "      <td>3</td>\n",
       "      <td>-0.284663</td>\n",
       "      <td>-0.474545</td>\n",
       "      <td>-0.473674</td>\n",
       "      <td>-0.798540</td>\n",
       "      <td>1</td>\n",
       "      <td>0</td>\n",
       "      <td>0</td>\n",
       "      <td>0</td>\n",
       "      <td>1</td>\n",
       "    </tr>\n",
       "    <tr>\n",
       "      <th>3</th>\n",
       "      <td>1</td>\n",
       "      <td>0.407926</td>\n",
       "      <td>0.432793</td>\n",
       "      <td>-0.473674</td>\n",
       "      <td>1.062038</td>\n",
       "      <td>1</td>\n",
       "      <td>0</td>\n",
       "      <td>0</td>\n",
       "      <td>0</td>\n",
       "      <td>1</td>\n",
       "    </tr>\n",
       "    <tr>\n",
       "      <th>4</th>\n",
       "      <td>3</td>\n",
       "      <td>0.407926</td>\n",
       "      <td>-0.474545</td>\n",
       "      <td>-0.473674</td>\n",
       "      <td>-0.784179</td>\n",
       "      <td>0</td>\n",
       "      <td>1</td>\n",
       "      <td>0</td>\n",
       "      <td>0</td>\n",
       "      <td>1</td>\n",
       "    </tr>\n",
       "    <tr>\n",
       "      <th>...</th>\n",
       "      <td>...</td>\n",
       "      <td>...</td>\n",
       "      <td>...</td>\n",
       "      <td>...</td>\n",
       "      <td>...</td>\n",
       "      <td>...</td>\n",
       "      <td>...</td>\n",
       "      <td>...</td>\n",
       "      <td>...</td>\n",
       "      <td>...</td>\n",
       "    </tr>\n",
       "    <tr>\n",
       "      <th>886</th>\n",
       "      <td>2</td>\n",
       "      <td>-0.207709</td>\n",
       "      <td>-0.474545</td>\n",
       "      <td>-0.473674</td>\n",
       "      <td>-0.333698</td>\n",
       "      <td>0</td>\n",
       "      <td>1</td>\n",
       "      <td>0</td>\n",
       "      <td>0</td>\n",
       "      <td>1</td>\n",
       "    </tr>\n",
       "    <tr>\n",
       "      <th>887</th>\n",
       "      <td>1</td>\n",
       "      <td>-0.823344</td>\n",
       "      <td>-0.474545</td>\n",
       "      <td>-0.473674</td>\n",
       "      <td>0.487082</td>\n",
       "      <td>1</td>\n",
       "      <td>0</td>\n",
       "      <td>0</td>\n",
       "      <td>0</td>\n",
       "      <td>1</td>\n",
       "    </tr>\n",
       "    <tr>\n",
       "      <th>888</th>\n",
       "      <td>3</td>\n",
       "      <td>0.000000</td>\n",
       "      <td>0.432793</td>\n",
       "      <td>2.008933</td>\n",
       "      <td>0.242007</td>\n",
       "      <td>1</td>\n",
       "      <td>0</td>\n",
       "      <td>0</td>\n",
       "      <td>0</td>\n",
       "      <td>1</td>\n",
       "    </tr>\n",
       "    <tr>\n",
       "      <th>889</th>\n",
       "      <td>1</td>\n",
       "      <td>-0.284663</td>\n",
       "      <td>-0.474545</td>\n",
       "      <td>-0.473674</td>\n",
       "      <td>0.487082</td>\n",
       "      <td>0</td>\n",
       "      <td>1</td>\n",
       "      <td>1</td>\n",
       "      <td>0</td>\n",
       "      <td>0</td>\n",
       "    </tr>\n",
       "    <tr>\n",
       "      <th>890</th>\n",
       "      <td>3</td>\n",
       "      <td>0.177063</td>\n",
       "      <td>-0.474545</td>\n",
       "      <td>-0.473674</td>\n",
       "      <td>-0.818987</td>\n",
       "      <td>0</td>\n",
       "      <td>1</td>\n",
       "      <td>0</td>\n",
       "      <td>1</td>\n",
       "      <td>0</td>\n",
       "    </tr>\n",
       "  </tbody>\n",
       "</table>\n",
       "<p>891 rows × 10 columns</p>\n",
       "</div>"
      ],
      "text/plain": [
       "    Pclass       Age     SibSp     Parch  Norm_fare  Sex_female  Sex_male  \\\n",
       "0        3 -0.592481  0.432793 -0.473674  -0.879741           0         1   \n",
       "1        1  0.638789  0.432793 -0.473674   1.361220           1         0   \n",
       "2        3 -0.284663 -0.474545 -0.473674  -0.798540           1         0   \n",
       "3        1  0.407926  0.432793 -0.473674   1.062038           1         0   \n",
       "4        3  0.407926 -0.474545 -0.473674  -0.784179           0         1   \n",
       "..     ...       ...       ...       ...        ...         ...       ...   \n",
       "886      2 -0.207709 -0.474545 -0.473674  -0.333698           0         1   \n",
       "887      1 -0.823344 -0.474545 -0.473674   0.487082           1         0   \n",
       "888      3  0.000000  0.432793  2.008933   0.242007           1         0   \n",
       "889      1 -0.284663 -0.474545 -0.473674   0.487082           0         1   \n",
       "890      3  0.177063 -0.474545 -0.473674  -0.818987           0         1   \n",
       "\n",
       "     Embarked_C  Embarked_Q  Embarked_S  \n",
       "0             0           0           1  \n",
       "1             1           0           0  \n",
       "2             0           0           1  \n",
       "3             0           0           1  \n",
       "4             0           0           1  \n",
       "..          ...         ...         ...  \n",
       "886           0           0           1  \n",
       "887           0           0           1  \n",
       "888           0           0           1  \n",
       "889           1           0           0  \n",
       "890           0           1           0  \n",
       "\n",
       "[891 rows x 10 columns]"
      ]
     },
     "execution_count": 28,
     "metadata": {},
     "output_type": "execute_result"
    }
   ],
   "source": [
    "#selecting the relevant data\n",
    "train_data.Pclass=train_data.Pclass.astype('string')\n",
    "my_dummies=pd.get_dummies(train_data[['Pclass','Sex','Age','SibSp','Parch','Norm_fare','Embarked']])\n",
    "#print(my_dummies.columns)\n",
    "#scale between 0 and 1\n",
    "from sklearn.preprocessing import StandardScaler\n",
    "scaler=StandardScaler()\n",
    "train_data_scaled=my_dummies.copy()\n",
    "train_data_scaled[['Age','SibSp','Parch','Norm_fare']]=scaler.fit_transform(train_data_scaled[['Age','SibSp','Parch','Norm_fare']])\n",
    "train_data_scaled\n"
   ]
  },
  {
   "cell_type": "code",
   "execution_count": 32,
   "id": "f6930af1",
   "metadata": {},
   "outputs": [
    {
     "name": "stderr",
     "output_type": "stream",
     "text": [
      "C:\\Users\\91977\\AppData\\Local\\Temp\\ipykernel_20984\\893482402.py:2: SettingWithCopyWarning: \n",
      "A value is trying to be set on a copy of a slice from a DataFrame\n",
      "\n",
      "See the caveats in the documentation: https://pandas.pydata.org/pandas-docs/stable/user_guide/indexing.html#returning-a-view-versus-a-copy\n",
      "  all_data.Age[np.isnan(all_data.Age)]=np.nanmean(all_data.Age,axis=0)\n"
     ]
    },
    {
     "data": {
      "text/html": [
       "<div>\n",
       "<style scoped>\n",
       "    .dataframe tbody tr th:only-of-type {\n",
       "        vertical-align: middle;\n",
       "    }\n",
       "\n",
       "    .dataframe tbody tr th {\n",
       "        vertical-align: top;\n",
       "    }\n",
       "\n",
       "    .dataframe thead th {\n",
       "        text-align: right;\n",
       "    }\n",
       "</style>\n",
       "<table border=\"1\" class=\"dataframe\">\n",
       "  <thead>\n",
       "    <tr style=\"text-align: right;\">\n",
       "      <th></th>\n",
       "      <th>Pclass</th>\n",
       "      <th>Age</th>\n",
       "      <th>SibSp</th>\n",
       "      <th>Parch</th>\n",
       "      <th>Norm_fare</th>\n",
       "      <th>train_test</th>\n",
       "      <th>Sex_female</th>\n",
       "      <th>Sex_male</th>\n",
       "      <th>Embarked_C</th>\n",
       "      <th>Embarked_Q</th>\n",
       "      <th>Embarked_S</th>\n",
       "    </tr>\n",
       "  </thead>\n",
       "  <tbody>\n",
       "    <tr>\n",
       "      <th>0</th>\n",
       "      <td>3</td>\n",
       "      <td>-0.610060</td>\n",
       "      <td>0.480272</td>\n",
       "      <td>-0.445407</td>\n",
       "      <td>-0.896199</td>\n",
       "      <td>1.0</td>\n",
       "      <td>0</td>\n",
       "      <td>1</td>\n",
       "      <td>0</td>\n",
       "      <td>0</td>\n",
       "      <td>1</td>\n",
       "    </tr>\n",
       "    <tr>\n",
       "      <th>1</th>\n",
       "      <td>1</td>\n",
       "      <td>0.634548</td>\n",
       "      <td>0.480272</td>\n",
       "      <td>-0.445407</td>\n",
       "      <td>1.347196</td>\n",
       "      <td>1.0</td>\n",
       "      <td>1</td>\n",
       "      <td>0</td>\n",
       "      <td>1</td>\n",
       "      <td>0</td>\n",
       "      <td>0</td>\n",
       "    </tr>\n",
       "    <tr>\n",
       "      <th>2</th>\n",
       "      <td>3</td>\n",
       "      <td>-0.298908</td>\n",
       "      <td>-0.479537</td>\n",
       "      <td>-0.445407</td>\n",
       "      <td>-0.814910</td>\n",
       "      <td>1.0</td>\n",
       "      <td>1</td>\n",
       "      <td>0</td>\n",
       "      <td>0</td>\n",
       "      <td>0</td>\n",
       "      <td>1</td>\n",
       "    </tr>\n",
       "    <tr>\n",
       "      <th>3</th>\n",
       "      <td>1</td>\n",
       "      <td>0.401184</td>\n",
       "      <td>0.480272</td>\n",
       "      <td>-0.445407</td>\n",
       "      <td>1.047689</td>\n",
       "      <td>1.0</td>\n",
       "      <td>1</td>\n",
       "      <td>0</td>\n",
       "      <td>0</td>\n",
       "      <td>0</td>\n",
       "      <td>1</td>\n",
       "    </tr>\n",
       "    <tr>\n",
       "      <th>4</th>\n",
       "      <td>3</td>\n",
       "      <td>0.401184</td>\n",
       "      <td>-0.479537</td>\n",
       "      <td>-0.445407</td>\n",
       "      <td>-0.800534</td>\n",
       "      <td>1.0</td>\n",
       "      <td>0</td>\n",
       "      <td>1</td>\n",
       "      <td>0</td>\n",
       "      <td>0</td>\n",
       "      <td>1</td>\n",
       "    </tr>\n",
       "    <tr>\n",
       "      <th>...</th>\n",
       "      <td>...</td>\n",
       "      <td>...</td>\n",
       "      <td>...</td>\n",
       "      <td>...</td>\n",
       "      <td>...</td>\n",
       "      <td>...</td>\n",
       "      <td>...</td>\n",
       "      <td>...</td>\n",
       "      <td>...</td>\n",
       "      <td>...</td>\n",
       "      <td>...</td>\n",
       "    </tr>\n",
       "    <tr>\n",
       "      <th>413</th>\n",
       "      <td>3</td>\n",
       "      <td>0.000000</td>\n",
       "      <td>-0.479537</td>\n",
       "      <td>-0.445407</td>\n",
       "      <td>-0.800534</td>\n",
       "      <td>NaN</td>\n",
       "      <td>0</td>\n",
       "      <td>1</td>\n",
       "      <td>0</td>\n",
       "      <td>0</td>\n",
       "      <td>1</td>\n",
       "    </tr>\n",
       "    <tr>\n",
       "      <th>414</th>\n",
       "      <td>1</td>\n",
       "      <td>0.712336</td>\n",
       "      <td>-0.479537</td>\n",
       "      <td>-0.445407</td>\n",
       "      <td>1.780269</td>\n",
       "      <td>NaN</td>\n",
       "      <td>1</td>\n",
       "      <td>0</td>\n",
       "      <td>1</td>\n",
       "      <td>0</td>\n",
       "      <td>0</td>\n",
       "    </tr>\n",
       "    <tr>\n",
       "      <th>415</th>\n",
       "      <td>3</td>\n",
       "      <td>0.673442</td>\n",
       "      <td>-0.479537</td>\n",
       "      <td>-0.445407</td>\n",
       "      <td>-0.896199</td>\n",
       "      <td>NaN</td>\n",
       "      <td>0</td>\n",
       "      <td>1</td>\n",
       "      <td>0</td>\n",
       "      <td>0</td>\n",
       "      <td>1</td>\n",
       "    </tr>\n",
       "    <tr>\n",
       "      <th>416</th>\n",
       "      <td>3</td>\n",
       "      <td>0.000000</td>\n",
       "      <td>-0.479537</td>\n",
       "      <td>-0.445407</td>\n",
       "      <td>-0.800534</td>\n",
       "      <td>NaN</td>\n",
       "      <td>0</td>\n",
       "      <td>1</td>\n",
       "      <td>0</td>\n",
       "      <td>0</td>\n",
       "      <td>1</td>\n",
       "    </tr>\n",
       "    <tr>\n",
       "      <th>417</th>\n",
       "      <td>3</td>\n",
       "      <td>0.000000</td>\n",
       "      <td>0.480272</td>\n",
       "      <td>0.709647</td>\n",
       "      <td>0.179553</td>\n",
       "      <td>NaN</td>\n",
       "      <td>0</td>\n",
       "      <td>1</td>\n",
       "      <td>1</td>\n",
       "      <td>0</td>\n",
       "      <td>0</td>\n",
       "    </tr>\n",
       "  </tbody>\n",
       "</table>\n",
       "<p>1307 rows × 11 columns</p>\n",
       "</div>"
      ],
      "text/plain": [
       "     Pclass       Age     SibSp     Parch  Norm_fare  train_test  Sex_female  \\\n",
       "0         3 -0.610060  0.480272 -0.445407  -0.896199         1.0           0   \n",
       "1         1  0.634548  0.480272 -0.445407   1.347196         1.0           1   \n",
       "2         3 -0.298908 -0.479537 -0.445407  -0.814910         1.0           1   \n",
       "3         1  0.401184  0.480272 -0.445407   1.047689         1.0           1   \n",
       "4         3  0.401184 -0.479537 -0.445407  -0.800534         1.0           0   \n",
       "..      ...       ...       ...       ...        ...         ...         ...   \n",
       "413       3  0.000000 -0.479537 -0.445407  -0.800534         NaN           0   \n",
       "414       1  0.712336 -0.479537 -0.445407   1.780269         NaN           1   \n",
       "415       3  0.673442 -0.479537 -0.445407  -0.896199         NaN           0   \n",
       "416       3  0.000000 -0.479537 -0.445407  -0.800534         NaN           0   \n",
       "417       3  0.000000  0.480272  0.709647   0.179553         NaN           0   \n",
       "\n",
       "     Sex_male  Embarked_C  Embarked_Q  Embarked_S  \n",
       "0           1           0           0           1  \n",
       "1           0           1           0           0  \n",
       "2           0           0           0           1  \n",
       "3           0           0           0           1  \n",
       "4           1           0           0           1  \n",
       "..        ...         ...         ...         ...  \n",
       "413         1           0           0           1  \n",
       "414         0           1           0           0  \n",
       "415         1           0           0           1  \n",
       "416         1           0           0           1  \n",
       "417         1           1           0           0  \n",
       "\n",
       "[1307 rows x 11 columns]"
      ]
     },
     "execution_count": 32,
     "metadata": {},
     "output_type": "execute_result"
    }
   ],
   "source": [
    "all_data.dropna(subset=['Embarked'],inplace=True)\n",
    "all_data.Age[np.isnan(all_data.Age)]=np.nanmean(all_data.Age,axis=0)\n",
    "all_data['Norm_fare']=np.log(all_data.Fare+1)\n",
    "all_dummies = pd.get_dummies(all_data[['Pclass', 'Sex', 'Age', 'SibSp', 'Parch', 'Norm_fare', 'Embarked', 'train_test']])\n",
    "all_data_scaled=all_dummies.copy()\n",
    "all_data_scaled[['Age', 'SibSp', 'Parch', 'Norm_fare']] = scaler.fit_transform(all_data_scaled[['Age', 'SibSp', 'Parch', 'Norm_fare']])\n",
    "all_data_scaled"
   ]
  },
  {
   "cell_type": "code",
   "execution_count": 35,
   "id": "80fc32dd",
   "metadata": {},
   "outputs": [
    {
     "name": "stdout",
     "output_type": "stream",
     "text": [
      "(889, 10)\n",
      "(889, 10)\n",
      "(889,)\n"
     ]
    }
   ],
   "source": [
    "#splitting the data\n",
    "X_train=all_data_scaled[all_data_scaled.train_test==1].drop(['train_test'],axis=1)\n",
    "X_test=all_data_scaled[all_data_scaled.train_test==1].drop(['train_test'],axis=1)\n",
    "y_train=all_data[all_data.train_test==1].Survived\n",
    "print(X_train.shape)\n",
    "print(X_test.shape)\n"
   ]
  },
  {
   "cell_type": "code",
   "execution_count": 39,
   "id": "3ce5719b",
   "metadata": {},
   "outputs": [
    {
     "data": {
      "text/plain": [
       "[<matplotlib.lines.Line2D at 0x1a9ecc2cfa0>]"
      ]
     },
     "execution_count": 39,
     "metadata": {},
     "output_type": "execute_result"
    },
    {
     "data": {
      "image/png": "[encoded data removed]",
      "text/plain": [
       "<Figure size 432x288 with 1 Axes>"
      ]
     },
     "metadata": {
      "needs_background": "light"
     },
     "output_type": "display_data"
    }
   ],
   "source": [
    "#importing modules\n",
    "from sklearn.linear_model import LinearRegression\n",
    "obj=LinearRegression()\n",
    "obj.fit(X_train,y_train)\n",
    "m=obj.coef_[0]\n",
    "c=obj.intercept_\n",
    "x_line=np.arange(30,70,1)\n",
    "y_line=m*x_line+c\n",
    "plt.plot(x_line,y_line,color='Red')"
   ]
  },
  {
   "cell_type": "code",
   "execution_count": 45,
   "id": "385bbdb0",
   "metadata": {},
   "outputs": [
    {
     "name": "stdout",
     "output_type": "stream",
     "text": [
      "[ 0.08157401  0.93480522  0.61063717  0.88193457  0.06135442  0.1566217\n",
      "  0.32367061  0.11931652  0.56875018  0.89114269  0.69712882  0.76437526\n",
      "  0.14989729 -0.07896318  0.68107385  0.61480216  0.14556231  0.25675821\n",
      "  0.56694791  0.63999033  0.25910411  0.23221765  0.7387689   0.45865381\n",
      "  0.58075077  0.4239648   0.14313893  0.40355505  0.65031882  0.09093987\n",
      "  0.43196629  1.01857209  0.64958704  0.03350555  0.50398695  0.34273761\n",
      "  0.14316442  0.14399443  0.59178808  0.70146336  0.48409483  0.74105715\n",
      "  0.14705305  0.92048938  0.71432112  0.09179785  0.13250603  0.64958704\n",
      "  0.08998178  0.64315676  0.06843278  0.1425959   0.87350019  0.73947567\n",
      "  0.29793674  0.44777723  0.79598555  0.15108957  0.83296377 -0.02458614\n",
      "  0.18945815  0.34830198  0.09530234  0.491924    0.0995654   0.74876269\n",
      "  0.15639404  0.40485916  0.0139556   0.23420272  0.44275097  0.39241551\n",
      "  0.14541169  0.17137058  0.11812615  0.09093987  0.09179785  0.41474904\n",
      "  0.60759359  0.14307505  0.10419086  0.64980054  0.47243145  0.81959698\n",
      "  0.44535289  0.11269703  0.09179785  0.87679502  0.12628586  0.09677157\n",
      "  0.1488053   0.32709716  0.05464022 -0.08493474  0.09179785  0.25977362\n",
      "  0.5469382   0.73032023  0.21310999  0.59866785  0.09093987  0.51241202\n",
      "  0.07638667 -0.05493963  0.10181645  0.63858898  0.09025728  0.04278787\n",
      "  0.65040044  0.3651203   0.71014595  0.13809158  0.60379284  0.74729904\n",
      "  0.14330006 -0.08725924  0.23240004  0.60848623  0.55757668  0.28862154\n",
      "  0.09179785  0.28508842  0.73792333  0.31761772  0.21641768  0.15273564\n",
      "  0.12100557  0.61454525 -0.00398725  0.12841534  0.14405151  0.46233763\n",
      "  0.73947567  0.28534337  0.36007144  0.94278527  0.37327746  0.1795625\n",
      "  0.57767948  0.62265589  0.63325997  0.60227258  0.21067907  0.3210055\n",
      "  0.29272705  0.10715492  0.62462934  0.19893404  0.18499478  0.1301458\n",
      "  0.96979357 -0.05965416  0.004436    0.08755406  0.38009884  0.73120254\n",
      "  0.09086871  0.09506728 -0.27217122  0.01433839  0.70260539  0.11293958\n",
      "  0.1708753   0.10384992  0.20676995  0.94034035  0.40261475  0.43258738\n",
      "  0.19498201  0.26104612  0.13375659  0.69598539  0.14330006  0.34244124\n",
      "  0.08305614 -0.035976    0.87148386  0.25582908 -0.05452015  0.22468018\n",
      "  0.31969364  0.019579    0.34997183  0.73649882  0.46447761  0.62935743\n",
      "  0.34426101  0.04689043  0.05459359  0.74087476  0.32076051  0.59966257\n",
      "  0.37044068  0.90520626  0.90425992  0.15273564 -0.00370679  0.64958704\n",
      "  0.78809762  0.11009372 -0.27217122  0.05785043  0.0507155   0.16170301\n",
      "  0.73914018  0.05819832  0.20964847  0.73129791  0.43736383  0.12044008\n",
      "  0.74573127  0.13347099  0.25582908  0.10083865  0.99899133  0.60473432\n",
      "  0.16770276  1.02546396  0.24600843  0.17350872  0.27353765 -0.0330913\n",
      "  0.09093987  0.39333655  0.14479252  0.31093987  0.14232528  0.32666337\n",
      "  0.4608754   0.90418196  0.095231    0.08639811  0.54004183  0.28142558\n",
      "  0.58581187  0.15408141  0.86447702  0.31093987  0.23546578  0.61958079\n",
      "  0.62935743  0.25191129  0.13270877  0.1422098   0.36864321  0.61569384\n",
      "  0.74186328  0.34711333  0.09505283  0.08717727  0.52786603  0.24391243\n",
      "  0.07073931  0.51399979  0.62762962  1.04004287  0.98734973  1.1022788\n",
      "  0.64175475  0.15273564  0.05499614  0.27901074  0.20822586  0.64958704\n",
      "  0.21059129  0.01530706  0.06694545  0.82478448  0.98008484  0.44120836\n",
      "  0.01041129  0.68113069  0.42734398  0.64958704  0.73553026  0.49749424\n",
      "  0.12500485  0.11604802  0.52326602 -0.05479352  0.10158244  0.18092801\n",
      "  0.15580015  0.43272625  0.13254275  0.098288    0.1372336   0.18499478\n",
      "  0.69588076  1.00639363  1.05904402  0.27607735  0.62736619  0.12542788\n",
      "  0.491924    0.18060386  1.07716763  0.44042214  0.95186333  0.64958704\n",
      "  0.09983275  0.04582843  0.81385695  0.09179785  0.58669132  1.05666434\n",
      "  1.07968245  0.28899236  1.02287323  1.07693604  1.01420114  0.73152635\n",
      "  0.10181645  0.13478651  0.61023956  0.76898996  0.11760492  0.96206002\n",
      "  0.92871303  0.13347099  0.10771931  0.81292782  0.76039785 -0.27217122\n",
      "  1.03029517 -0.10327743  0.71726333  0.54751939  1.08075215  0.59668415\n",
      "  0.3447238   0.44599024  0.10674239  0.95790129  0.09093987  0.43162217\n",
      "  1.00036505  0.00232585  0.35830523  0.37634354  0.87089216  0.26763479\n",
      "  0.28534337  0.22041193  0.78809762  0.6936519   0.56851984  0.20387122\n",
      "  0.02330385  0.13828304  0.44708861  0.15322327  0.10498535  0.14313893\n",
      "  0.11009372  0.98663408  0.70545761  0.65031882  0.65031882 -0.06472236\n",
      "  0.30182202  0.55634788  0.05550864  0.13250603  0.08624813  0.80760953\n",
      "  0.64001582  0.64958704  1.06795325  0.50234043  0.10039917  0.15580015\n",
      "  0.61608378  0.61026506  0.98996177  0.63032239  0.55730238  0.17651364\n",
      "  0.15425958  1.02055638  0.79441077  0.07836863  0.88090901  0.09093987\n",
      "  0.41012408  0.03444244  0.71726333  0.15261682  0.88183101  0.36805149\n",
      "  0.14257207 -0.00181391  1.0462142   0.60531075  0.13666921  0.58072527\n",
      "  0.19417268  0.28732844  0.76322222  0.03704862  0.11448014  0.59788998\n",
      "  0.08180975  0.65001812  0.20288575 -0.0347743   0.35483015  0.14245387\n",
      "  0.4608754   0.09093987  0.14736959  0.98232303  0.12500485  0.00753433\n",
      "  0.58864925  0.69507261  0.77219898  0.25582908  0.70548887  0.14705305\n",
      "  0.20483685  0.09579673  0.5485109   0.12667502  0.08717727  0.74537853\n",
      "  0.85040124  0.15273564  0.079063    0.44460959  0.56851984  0.66273852\n",
      "  0.16222306  0.29905955  0.99476576  0.55379505  0.62450876  0.19040464\n",
      "  0.24010557  0.61983219  0.15731658  0.06694545  0.76448619  0.09214144\n",
      "  0.58993562  0.84641071  0.40919245  0.70218195  0.30963013  0.15312378\n",
      "  0.08184588  0.4910456   0.38402441  0.09179785  0.15202678  0.22620386\n",
      "  0.91122274  0.62480268  0.15273564  0.32655244  0.06725728  0.35044297\n",
      "  0.14957764  0.09179785  0.03780007  0.12500485  0.27932958  0.15259279\n",
      "  0.72726909  0.08717727  0.04691528  0.66768375  0.85285995  0.64394173\n",
      "  0.46639802  0.20288575  0.03900275  0.1350834   0.74651615 -0.01278043\n",
      "  0.12500485 -0.02718844  0.40075941  0.52677547  0.4608754   0.90789652\n",
      "  0.32904186  0.09086871  0.16845408  0.08184588  0.13937385  0.29192156\n",
      "  0.27715677  0.14399443  0.17463962  0.84496377  0.12055703  0.9414019\n",
      "  0.12486349  0.1708753   0.70178362  0.64889299  0.55423371  1.06998974\n",
      "  0.57692819  0.71644544  0.43373301  0.15036716  0.20678773  0.15770936\n",
      "  0.09179785  0.39690877  0.83139287  0.123131    0.34443414  0.7192484\n",
      "  0.20544603  0.69815567  0.07820502  0.99119196  0.1372336   0.14313893\n",
      "  0.91547213  0.14316442  0.0898265   0.62480268  0.53808393  0.03704862\n",
      "  0.16203935  0.87319494  0.14316442  0.14141755  0.64078434  0.59098954\n",
      "  0.87037988  0.34426101  1.05370511  0.11866093  1.01192826  0.8908829\n",
      "  0.51625668  0.50445096  0.2249157   0.38689957  0.23109996  0.79850425\n",
      "  0.31585607  0.03886227  0.35765849  0.58430517  0.30632698  0.15318549\n",
      "  0.18943266  0.63340241  0.24391243  0.846979    0.59546841  0.85259929\n",
      "  0.53583163  0.15273564  0.03098216  0.26938671  0.09179785  0.58864925\n",
      "  0.07351928  0.15494217  0.53550804  0.14316442  0.07797101  0.05711698\n",
      "  0.72226758  0.39709139  0.64958704  0.17350872  0.18266323  0.72906905\n",
      "  0.86084238  0.61959403  0.07836863  0.74432628  0.9250546   0.14694982\n",
      "  0.47350031  0.15143814  1.0027984   0.16214697  0.28762172  0.13809158\n",
      "  0.09179785  0.05597162  0.85676949 -0.01410045  0.59827125  0.19540141\n",
      "  0.02892408  0.79790769 -0.1312573   0.14313893  0.36197054  0.69325072\n",
      "  0.09093987  0.4564215   0.0082287   0.45940277  0.03369002  0.09001074\n",
      "  0.45720157  0.80833508  0.95669382  0.41788822  0.08595207  0.62935743\n",
      "  0.15273564  0.06135442  0.7622975   0.01624235  0.59120214  0.82911465\n",
      "  0.26961986  0.13950883  0.34325694  0.15916598  0.14290244  0.17576201\n",
      "  0.25930988  0.15669926  1.03534727  0.11362217  0.15264026  0.1435513\n",
      " -0.03891104  0.48380047  0.26818357  0.56263945  0.76448619  0.07836863\n",
      "  0.2056208   0.46954338  0.07166844  0.1488053   1.06795325  0.60395945\n",
      "  0.18410543  0.72726909  0.38255164  0.15494217  0.34948698  0.08896047\n",
      "  0.62620274  0.09093987  0.82476595  0.14606536  0.65003689  0.71343333\n",
      "  0.27091296  0.09093987  0.59096469  0.29714908  0.34334397  0.29016662\n",
      "  0.08318122  0.33067992  0.0522967   0.09730593  0.2236901   0.28534337\n",
      "  0.09025728  0.01413156  0.91135243  0.66850876  0.40766904  0.00989412\n",
      "  0.24992622  0.12500485  0.16016244  0.12333443  0.6675725   0.38833018\n",
      "  0.57386664  0.65175042  0.55840864  0.15599161 -0.04229471  0.05360021\n",
      "  0.29377511  0.02711277  0.16631116  0.16028064  1.09449459  0.41216978\n",
      "  0.79489563  0.18410543  0.17172409  0.25571815  0.12771812  0.0082287\n",
      "  0.64949166  0.36917463  0.01777757  1.11032798  0.40281162  0.71572504\n",
      "  0.18127341  0.06149117  0.23549268  0.66588952  0.36149162  1.06232325\n",
      "  0.0995654   1.05144249  0.43373301  0.30732046  0.10411139  0.12596621\n",
      "  0.15354329  1.04416781  0.76056841  0.18440302  0.07161957  0.91298925\n",
      "  0.10988914  0.23221765  0.13777192  0.43230603  0.15316672  0.61955461\n",
      "  0.64951567  0.26623571  0.56464305  1.03751248  0.29819134  0.12500485\n",
      "  0.29714908  0.29714908  0.13149058  0.42065698  0.6054274   0.09093987\n",
      "  0.09093987  0.43962333  0.39861667  0.99649257  0.10615646  0.08427149\n",
      "  0.16709524  0.13856892  0.75268048  0.4795289   0.14590364  0.85550898\n",
      "  0.22675288  0.08057943  0.13133074  0.62062891  0.35648646  0.10125206\n",
      "  0.3210055   0.06725728  0.96964116  0.11866093  0.02055448  0.20126386\n",
      "  0.86490289  0.17196816  0.80636455  0.50920516  0.64570647  0.15354904\n",
      "  0.08075781  0.13370515 -0.01647472  0.58348267  0.14313893  0.5090503\n",
      "  0.16002     0.15273564  0.75516503  0.15266427  0.92921457  0.73943527\n",
      "  0.99166119  0.44459705  0.03820321  0.11453722  0.11576242  0.65539954\n",
      "  0.11014516  0.20221166  0.44781661  0.15273564  0.37125841  0.22468018\n",
      "  0.49684468  0.11952503  0.20270336  0.81636314  0.58519404  0.14223528\n",
      "  0.56119262  0.23221765  0.7024722   0.51562294  0.2984409   0.10226419\n",
      "  0.08342529  0.21412871  0.65701384  0.20270336  0.89374029  0.11357557\n",
      "  0.08877038  0.21649414  0.53396525  0.08791728  0.26818357  0.62834575\n",
      "  0.27834099  0.00441873  0.05988519  0.78377421  0.11184672  0.22003157\n",
      "  0.59964427  0.09794707  0.1479488   0.18410543  0.48166582  0.15273564\n",
      "  0.70719452  0.36763935  0.14316442  0.13109673  0.16306343  0.91083829\n",
      "  0.14726387  0.09179785  0.17137058  0.49525102  0.14920292  0.32864844\n",
      "  0.99324381  0.11062237  0.1708753   0.01719704 -0.27217122  0.11660963\n",
      "  0.28627498  0.99395924  0.04891957 -0.1703976   0.71944768  1.00574982\n",
      "  0.65093281  0.63959745  0.85318092  0.30884387  0.64250583  0.14316442\n",
      " -0.05227146  0.25139994  0.822266    0.22468018  0.29124622  0.68184618\n",
      "  0.77757581  0.45812862  0.09921714  0.18142542  0.11362217  0.78493615\n",
      "  0.33899838 -0.0044964   0.79764948  0.72760406  0.15893426  0.15494217\n",
      "  0.09093987  0.86238669  0.7893262   0.07230216  0.64697642  0.25781415\n",
      "  0.11453722  0.52896434  0.27353765  1.00047703  0.53505461  0.5184188\n",
      "  0.14000079]\n",
      "39.94\n"
     ]
    }
   ],
   "source": [
    "Y_pred=obj.predict(X_test)\n",
    "obj.score(X_train,y_train)\n",
    "acc_obj=round(obj.score(X_train,y_train)*100,2)\n",
    "print(Y_pred)\n",
    "print(acc_obj)"
   ]
  },
  {
   "cell_type": "code",
   "execution_count": null,
   "id": "674d000e",
   "metadata": {},
   "outputs": [],
   "source": []
  }
 ],
 "metadata": {
  "kernelspec": {
   "display_name": "Python 3 (ipykernel)",
   "language": "python",
   "name": "python3"
  },
  "language_info": {
   "codemirror_mode": {
    "name": "ipython",
    "version": 3
   },
   "file_extension": ".py",
   "mimetype": "text/x-python",
   "name": "python",
   "nbconvert_exporter": "python",
   "pygments_lexer": "ipython3",
   "version": "3.9.12"
  }
 },
 "nbformat": 4,
 "nbformat_minor": 5
}
