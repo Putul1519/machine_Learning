{
 "cells": [
  {
   "cell_type": "code",
   "execution_count": 1,
   "id": "f3a09ec4",
   "metadata": {},
   "outputs": [],
   "source": [
    "import numpy as np\n",
    "import pandas as pd"
   ]
  },
  {
   "cell_type": "code",
   "execution_count": 2,
   "id": "589ecd37",
   "metadata": {},
   "outputs": [],
   "source": [
    "def fit(x_train,y_train):\n",
    "    result={}\n",
    "    class_values=set(y_train)#top level keys distinct values in y_train\n",
    "    for current_class in class_values:\n",
    "        result[current_class]={}\n",
    "        result[\"total_data\"]=len(y_train)\n",
    "        current_class_rows=(y_train==current_class)\n",
    "        x_train_current=x_train[current_class_rows]\n",
    "        y_train_current=y_train[current_class_rows]\n",
    "        \n",
    "        num_features=x_train.shape[1]#number of features\n",
    "        result[current_class][\"total_count\"]=len(y_train_current)\n",
    "        for j in range(1,num_features+1):\n",
    "            \n",
    "            result[current_class][j]={}\n",
    "            all_possible_values=set(x_train[:,j-1])\n",
    "            for current_value in all_possible_values:\n",
    "                result[current_class][j][current_value]=(x_train[:,j-1]==current_value).sum()\n",
    "                \n",
    "            \n",
    "    return result"
   ]
  },
  {
   "cell_type": "code",
   "execution_count": 3,
   "id": "cac4b9d8",
   "metadata": {},
   "outputs": [],
   "source": [
    "def probability(result,x,current_class):\n",
    "    class_prob=np.log(result[current_class][\"total_count\"])-np.log(result[\"total_data\"])\n",
    "    output=class_prob\n",
    "    num_features=len(result[current_class].keys())-1\n",
    "    for j in range(1,num_features):\n",
    "        xj=x[j-1]\n",
    "        count_current_class_with_value_xj=result[current_class][j][xj]+1\n",
    "        count_current_class=result[current_class][\"total_count\"]+len(result[current_class][j].keys())\n",
    "        current_xj_prob=np.log(count_current_class_with_value_xj)-np.log(count_current_class)\n",
    "        output+=current_xj_prob  #small data hence take log of probability\n",
    "    return output\n",
    "    "
   ]
  },
  {
   "cell_type": "code",
   "execution_count": 4,
   "id": "c9b473d7",
   "metadata": {},
   "outputs": [],
   "source": [
    "def predictSinglePoint(result,x):\n",
    "    classes=result.keys()\n",
    "    best_p=-1000\n",
    "    best_class=-1\n",
    "    first_run=True\n",
    "    for current_class in classes:\n",
    "        if(current_class==\"total_data\"):\n",
    "            continue\n",
    "        p_current_class=probability(result,x,current_class)\n",
    "        if (first_run or p_current_class>best_p):\n",
    "            best_p=p_current_class\n",
    "            best_class=current_class\n",
    "        first_run=False\n",
    "    return best_class"
   ]
  },
  {
   "cell_type": "code",
   "execution_count": 5,
   "id": "8c09a296",
   "metadata": {},
   "outputs": [],
   "source": [
    "def predict(result,x_test):\n",
    "    y_pred=[]\n",
    "    for x in x_test:\n",
    "        x_class=predictSinglePoint(result,x)\n",
    "        y_pred.append(x_class)\n",
    "    return y_pred"
   ]
  },
  {
   "cell_type": "code",
   "execution_count": 6,
   "id": "1db491ae",
   "metadata": {},
   "outputs": [],
   "source": [
    " def makeLabelled(column): #changing continuous data to labelled data\n",
    "        second_limit=column.mean()\n",
    "        first_limit=0.5*second_limit\n",
    "        third_limit=1.5*second_limit\n",
    "        for i in range(0,len(column)):\n",
    "            if(column[i]<first_limit):\n",
    "                column[i]=0\n",
    "            elif(column[i]<second_limit):\n",
    "                column[i]=1\n",
    "            elif(column[i]<third_limit):\n",
    "                column[i]=2\n",
    "            else:\n",
    "                column[i]=3\n",
    "        return column\n",
    "        "
   ]
  },
  {
   "cell_type": "code",
   "execution_count": 7,
   "id": "cb6c34d3",
   "metadata": {},
   "outputs": [],
   "source": [
    "from sklearn import datasets\n",
    "iris=datasets.load_iris()\n",
    "X=iris.data\n",
    "Y=iris.target"
   ]
  },
  {
   "cell_type": "code",
   "execution_count": 8,
   "id": "81dfe59f",
   "metadata": {},
   "outputs": [],
   "source": [
    "for i in range(0,X.shape[-1]):\n",
    "    X[:,i]=makeLabelled(X[:,i])"
   ]
  },
  {
   "cell_type": "code",
   "execution_count": 9,
   "id": "9fbbb2bb",
   "metadata": {},
   "outputs": [],
   "source": [
    "from sklearn import model_selection\n",
    "X_train,X_test,Y_train,Y_test=model_selection.train_test_split(X,Y,test_size=.25,random_state=0)\n"
   ]
  },
  {
   "cell_type": "code",
   "execution_count": 10,
   "id": "4c769f7c",
   "metadata": {},
   "outputs": [],
   "source": [
    "dictionary=fit(X_train,Y_train)"
   ]
  },
  {
   "cell_type": "code",
   "execution_count": 11,
   "id": "3c845853",
   "metadata": {},
   "outputs": [],
   "source": [
    "y_pred=predict(dictionary,X_test)"
   ]
  },
  {
   "cell_type": "code",
   "execution_count": 13,
   "id": "b57718a8",
   "metadata": {},
   "outputs": [],
   "source": [
    "from sklearn.metrics import classification_report,confusion_matrix\n"
   ]
  },
  {
   "cell_type": "code",
   "execution_count": 15,
   "id": "0a386657",
   "metadata": {},
   "outputs": [
    {
     "name": "stdout",
     "output_type": "stream",
     "text": [
      "              precision    recall  f1-score   support\n",
      "\n",
      "           0       0.00      0.00      0.00        13\n",
      "           1       0.42      1.00      0.59        16\n",
      "           2       0.00      0.00      0.00         9\n",
      "\n",
      "    accuracy                           0.42        38\n",
      "   macro avg       0.14      0.33      0.20        38\n",
      "weighted avg       0.18      0.42      0.25        38\n",
      "\n",
      "[[ 0 13  0]\n",
      " [ 0 16  0]\n",
      " [ 0  9  0]]\n"
     ]
    },
    {
     "name": "stderr",
     "output_type": "stream",
     "text": [
      "C:\\ProgramData\\Anaconda3\\lib\\site-packages\\sklearn\\metrics\\_classification.py:1318: UndefinedMetricWarning: Precision and F-score are ill-defined and being set to 0.0 in labels with no predicted samples. Use `zero_division` parameter to control this behavior.\n",
      "  _warn_prf(average, modifier, msg_start, len(result))\n",
      "C:\\ProgramData\\Anaconda3\\lib\\site-packages\\sklearn\\metrics\\_classification.py:1318: UndefinedMetricWarning: Precision and F-score are ill-defined and being set to 0.0 in labels with no predicted samples. Use `zero_division` parameter to control this behavior.\n",
      "  _warn_prf(average, modifier, msg_start, len(result))\n",
      "C:\\ProgramData\\Anaconda3\\lib\\site-packages\\sklearn\\metrics\\_classification.py:1318: UndefinedMetricWarning: Precision and F-score are ill-defined and being set to 0.0 in labels with no predicted samples. Use `zero_division` parameter to control this behavior.\n",
      "  _warn_prf(average, modifier, msg_start, len(result))\n"
     ]
    }
   ],
   "source": [
    "print(classification_report(Y_test,y_pred))\n",
    "print(confusion_matrix(Y_test,y_pred))"
   ]
  },
  {
   "cell_type": "code",
   "execution_count": null,
   "id": "42f9e7e4",
   "metadata": {},
   "outputs": [],
   "source": []
  }
 ],
 "metadata": {
  "kernelspec": {
   "display_name": "Python 3 (ipykernel)",
   "language": "python",
   "name": "python3"
  },
  "language_info": {
   "codemirror_mode": {
    "name": "ipython",
    "version": 3
   },
   "file_extension": ".py",
   "mimetype": "text/x-python",
   "name": "python",
   "nbconvert_exporter": "python",
   "pygments_lexer": "ipython3",
   "version": "3.9.12"
  }
 },
 "nbformat": 4,
 "nbformat_minor": 5
}
