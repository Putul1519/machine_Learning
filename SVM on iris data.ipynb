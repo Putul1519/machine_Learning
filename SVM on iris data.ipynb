{
 "cells": [
  {
   "cell_type": "code",
   "execution_count": 36,
   "id": "68fd2039",
   "metadata": {},
   "outputs": [],
   "source": [
    "from sklearn import svm,datasets\n",
    "import numpy as np\n",
    "from sklearn.model_selection import train_test_split\n",
    "import matplotlib.pyplot as plt"
   ]
  },
  {
   "cell_type": "code",
   "execution_count": 37,
   "id": "0a3f70ad",
   "metadata": {},
   "outputs": [],
   "source": [
    "iris=datasets.load_iris()\n",
    "x=iris.data[:,0:2 ]# we only need two features so that it is easy to plot decision boundary\n",
    "y=iris.target\n"
   ]
  },
  {
   "cell_type": "code",
   "execution_count": 38,
   "id": "78e729ab",
   "metadata": {},
   "outputs": [],
   "source": [
    "x_train,x_test,y_train,y_test=train_test_split(x,y)"
   ]
  },
  {
   "cell_type": "code",
   "execution_count": 81,
   "id": "747c0b76",
   "metadata": {},
   "outputs": [],
   "source": [
    "clf=svm.SVC(kernel='linear')\n"
   ]
  },
  {
   "cell_type": "code",
   "execution_count": 82,
   "id": "4ddb3190",
   "metadata": {},
   "outputs": [
    {
     "data": {
      "text/plain": [
       "SVC(kernel='linear')"
      ]
     },
     "execution_count": 82,
     "metadata": {},
     "output_type": "execute_result"
    }
   ],
   "source": [
    "clf.fit(x_train,y_train )"
   ]
  },
  {
   "cell_type": "code",
   "execution_count": 83,
   "id": "0f9ec0b5",
   "metadata": {},
   "outputs": [
    {
     "data": {
      "text/plain": [
       "0.8157894736842105"
      ]
     },
     "execution_count": 83,
     "metadata": {},
     "output_type": "execute_result"
    }
   ],
   "source": [
    "clf.score(x_test,y_test)"
   ]
  },
  {
   "cell_type": "code",
   "execution_count": 84,
   "id": "23ed4982",
   "metadata": {},
   "outputs": [],
   "source": [
    " def makegrid(x1,x2,h=0.02):\n",
    "        x1_min,x1_max=x1.min()-1,x1.max()+1\n",
    "        x2_min,x2_max=x2.min()-1,x2.max()+1\n",
    "        a=np.arange(x1_min,x1_max,h)\n",
    "        b=np.arange(x2_min,x2_max,h)\n",
    "        xx,yy=np.meshgrid(a,b)\n",
    "        return xx, yy"
   ]
  },
  {
   "cell_type": "code",
   "execution_count": 85,
   "id": "3e828a24",
   "metadata": {},
   "outputs": [
    {
     "data": {
      "image/png": "[encoded data removed]",
      "text/plain": [
       "<Figure size 432x288 with 1 Axes>"
      ]
     },
     "metadata": {
      "needs_background": "light"
     },
     "output_type": "display_data"
    }
   ],
   "source": [
    "xx,yy=makegrid(x[:,0],x[:,1])\n",
    "pred=clf.predict(np.c_[xx.ravel(),yy.ravel()])\n",
    "# print(np.c_[xx.ravel(),yy.ravel()])\n",
    "plt.scatter(xx.ravel(),yy.ravel(),c=pred)\n",
    "plt.show()"
   ]
  }
 ],
 "metadata": {
  "kernelspec": {
   "display_name": "Python 3 (ipykernel)",
   "language": "python",
   "name": "python3"
  },
  "language_info": {
   "codemirror_mode": {
    "name": "ipython",
    "version": 3
   },
   "file_extension": ".py",
   "mimetype": "text/x-python",
   "name": "python",
   "nbconvert_exporter": "python",
   "pygments_lexer": "ipython3",
   "version": "3.9.12"
  }
 },
 "nbformat": 4,
 "nbformat_minor": 5
}
